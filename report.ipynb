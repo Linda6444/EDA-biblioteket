{
 "cells": [
  {
   "cell_type": "code",
   "execution_count": 1,
   "id": "0b61c343",
   "metadata": {},
   "outputs": [
    {
     "name": "stdout",
     "output_type": "stream",
     "text": [
      "<class 'pandas.core.frame.DataFrame'>\n",
      "RangeIndex: 30 entries, 0 to 29\n",
      "Data columns (total 8 columns):\n",
      " #   Column              Non-Null Count  Dtype         \n",
      "---  ------              --------------  -----         \n",
      " 0   book_title          30 non-null     object        \n",
      " 1   category            30 non-null     object        \n",
      " 2   branch              30 non-null     object        \n",
      " 3   loan_date           30 non-null     int64         \n",
      " 4   return_date         30 non-null     datetime64[ns]\n",
      " 5   loan_duration_days  30 non-null     int64         \n",
      " 6   month               30 non-null     datetime64[ns]\n",
      " 7   week                30 non-null     datetime64[ns]\n",
      "dtypes: datetime64[ns](3), int64(2), object(3)\n",
      "memory usage: 2.0+ KB\n"
     ]
    }
   ],
   "source": [
    "\n",
    "from src.io_utils import load_data, coerce_numeric\n",
    "\n",
    "df = coerce_numeric(load_data(\"data/library_loans.csv\"))\n",
    "df = df.dropna(subset=[\"loan_duration_days\"]).copy()\n",
    "df = df[df[\"loan_duration_days\"] > 0 ].copy()\n",
    "\n",
    "df[\"month\"] = df[\"return_date\"].dt.to_period(\"M\").dt.to_timestamp()\n",
    "df[\"week\"] = df[\"return_date\"].dt.to_period(\"W\").dt.start_time\n",
    "\n",
    "df.info()\n",
    "#df.head()\n",
    "\n",
    "\n",
    "\n"
   ]
  },
  {
   "cell_type": "code",
   "execution_count": 2,
   "id": "37455ef1",
   "metadata": {},
   "outputs": [
    {
     "name": "stdout",
     "output_type": "stream",
     "text": [
      "Total antal lån:  10\n",
      "Genomsnittlig lånetid: 17.4\n"
     ]
    }
   ],
   "source": [
    "from src import metrics as M\n",
    "\n",
    "print(\"Total antal lån: \", M.total_loans(df))\n",
    "print(\"Genomsnittlig lånetid:\", M.avg_loan_days(df))"
   ]
  }
 ],
 "metadata": {
  "kernelspec": {
   "display_name": "Python 3",
   "language": "python",
   "name": "python3"
  },
  "language_info": {
   "codemirror_mode": {
    "name": "ipython",
    "version": 3
   },
   "file_extension": ".py",
   "mimetype": "text/x-python",
   "name": "python",
   "nbconvert_exporter": "python",
   "pygments_lexer": "ipython3",
   "version": "3.13.7"
  }
 },
 "nbformat": 4,
 "nbformat_minor": 5
}
