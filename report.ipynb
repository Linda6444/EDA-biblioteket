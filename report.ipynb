{
 "cells": [
  {
   "cell_type": "code",
   "execution_count": null,
   "id": "0b61c343",
   "metadata": {},
   "outputs": [
    {
     "data": {
      "application/vnd.microsoft.datawrangler.viewer.v0+json": {
       "columns": [
        {
         "name": "index",
         "rawType": "int64",
         "type": "integer"
        },
        {
         "name": "book_title",
         "rawType": "object",
         "type": "string"
        },
        {
         "name": "category",
         "rawType": "object",
         "type": "string"
        },
        {
         "name": "branch",
         "rawType": "object",
         "type": "string"
        },
        {
         "name": "loan_date",
         "rawType": "int64",
         "type": "integer"
        },
        {
         "name": "return_date",
         "rawType": "datetime64[ns]",
         "type": "datetime"
        },
        {
         "name": "loan_duration_days",
         "rawType": "int64",
         "type": "integer"
        },
        {
         "name": "month",
         "rawType": "datetime64[ns]",
         "type": "datetime"
        },
        {
         "name": "week",
         "rawType": "datetime64[ns]",
         "type": "datetime"
        }
       ],
       "ref": "e575e894-82b0-4852-b204-669d6e8b39cd",
       "rows": [
        [
         "0",
         "The Silent Patient",
         "Fiction",
         "Central Library",
         "1736640000000000000",
         "2025-02-02 00:00:00",
         "21",
         "2025-02-01 00:00:00",
         "2025-01-27 00:00:00"
        ],
        [
         "1",
         "Becoming",
         "Biography",
         "Westside Branch",
         "1737158400000000000",
         "2025-02-03 00:00:00",
         "16",
         "2025-02-01 00:00:00",
         "2025-02-03 00:00:00"
        ],
        [
         "2",
         "Where the Crawdads Sing",
         "Fiction",
         "Central Library",
         "1738713600000000000",
         "2025-02-25 00:00:00",
         "20",
         "2025-02-01 00:00:00",
         "2025-02-24 00:00:00"
        ],
        [
         "3",
         "Educated",
         "Biography",
         "North Branch",
         "1739232000000000000",
         "2025-02-26 00:00:00",
         "15",
         "2025-02-01 00:00:00",
         "2025-02-24 00:00:00"
        ],
        [
         "4",
         "Atomic Habits",
         "Self-help",
         "Central Library",
         "1739836800000000000",
         "2025-03-05 00:00:00",
         "15",
         "2025-03-01 00:00:00",
         "2025-03-03 00:00:00"
        ]
       ],
       "shape": {
        "columns": 8,
        "rows": 5
       }
      },
      "text/html": [
       "<div>\n",
       "<style scoped>\n",
       "    .dataframe tbody tr th:only-of-type {\n",
       "        vertical-align: middle;\n",
       "    }\n",
       "\n",
       "    .dataframe tbody tr th {\n",
       "        vertical-align: top;\n",
       "    }\n",
       "\n",
       "    .dataframe thead th {\n",
       "        text-align: right;\n",
       "    }\n",
       "</style>\n",
       "<table border=\"1\" class=\"dataframe\">\n",
       "  <thead>\n",
       "    <tr style=\"text-align: right;\">\n",
       "      <th></th>\n",
       "      <th>book_title</th>\n",
       "      <th>category</th>\n",
       "      <th>branch</th>\n",
       "      <th>loan_date</th>\n",
       "      <th>return_date</th>\n",
       "      <th>loan_duration_days</th>\n",
       "      <th>month</th>\n",
       "      <th>week</th>\n",
       "    </tr>\n",
       "  </thead>\n",
       "  <tbody>\n",
       "    <tr>\n",
       "      <th>0</th>\n",
       "      <td>The Silent Patient</td>\n",
       "      <td>Fiction</td>\n",
       "      <td>Central Library</td>\n",
       "      <td>1736640000000000000</td>\n",
       "      <td>2025-02-02</td>\n",
       "      <td>21</td>\n",
       "      <td>2025-02-01</td>\n",
       "      <td>2025-01-27</td>\n",
       "    </tr>\n",
       "    <tr>\n",
       "      <th>1</th>\n",
       "      <td>Becoming</td>\n",
       "      <td>Biography</td>\n",
       "      <td>Westside Branch</td>\n",
       "      <td>1737158400000000000</td>\n",
       "      <td>2025-02-03</td>\n",
       "      <td>16</td>\n",
       "      <td>2025-02-01</td>\n",
       "      <td>2025-02-03</td>\n",
       "    </tr>\n",
       "    <tr>\n",
       "      <th>2</th>\n",
       "      <td>Where the Crawdads Sing</td>\n",
       "      <td>Fiction</td>\n",
       "      <td>Central Library</td>\n",
       "      <td>1738713600000000000</td>\n",
       "      <td>2025-02-25</td>\n",
       "      <td>20</td>\n",
       "      <td>2025-02-01</td>\n",
       "      <td>2025-02-24</td>\n",
       "    </tr>\n",
       "    <tr>\n",
       "      <th>3</th>\n",
       "      <td>Educated</td>\n",
       "      <td>Biography</td>\n",
       "      <td>North Branch</td>\n",
       "      <td>1739232000000000000</td>\n",
       "      <td>2025-02-26</td>\n",
       "      <td>15</td>\n",
       "      <td>2025-02-01</td>\n",
       "      <td>2025-02-24</td>\n",
       "    </tr>\n",
       "    <tr>\n",
       "      <th>4</th>\n",
       "      <td>Atomic Habits</td>\n",
       "      <td>Self-help</td>\n",
       "      <td>Central Library</td>\n",
       "      <td>1739836800000000000</td>\n",
       "      <td>2025-03-05</td>\n",
       "      <td>15</td>\n",
       "      <td>2025-03-01</td>\n",
       "      <td>2025-03-03</td>\n",
       "    </tr>\n",
       "  </tbody>\n",
       "</table>\n",
       "</div>"
      ],
      "text/plain": [
       "                book_title   category           branch            loan_date  \\\n",
       "0       The Silent Patient    Fiction  Central Library  1736640000000000000   \n",
       "1                 Becoming  Biography  Westside Branch  1737158400000000000   \n",
       "2  Where the Crawdads Sing    Fiction  Central Library  1738713600000000000   \n",
       "3                 Educated  Biography     North Branch  1739232000000000000   \n",
       "4            Atomic Habits  Self-help  Central Library  1739836800000000000   \n",
       "\n",
       "  return_date  loan_duration_days      month       week  \n",
       "0  2025-02-02                  21 2025-02-01 2025-01-27  \n",
       "1  2025-02-03                  16 2025-02-01 2025-02-03  \n",
       "2  2025-02-25                  20 2025-02-01 2025-02-24  \n",
       "3  2025-02-26                  15 2025-02-01 2025-02-24  \n",
       "4  2025-03-05                  15 2025-03-01 2025-03-03  "
      ]
     },
     "execution_count": 7,
     "metadata": {},
     "output_type": "execute_result"
    }
   ],
   "source": [
    "\n",
    "from src.io_utils import load_data, coerce_numeric\n",
    "\n",
    "df = coerce_numeric(load_data(\"data/library_loans.csv\"))\n",
    "df = df.dropna(subset=[\"loan_duration_days\"]).copy()\n",
    "df = df[df[\"loan_duration_days\"] > 0 ].copy()\n",
    "\n",
    "df[\"month\"] = df[\"return_date\"].dt.to_period(\"M\").dt.to_timestamp()\n",
    "df[\"week\"] = df[\"return_date\"].dt.to_period(\"W\").dt.start_time\n",
    "\n",
    "df.info()\n",
    "#df.head()\n",
    "\n",
    "\n",
    "\n"
   ]
  }
 ],
 "metadata": {
  "kernelspec": {
   "display_name": "Python 3",
   "language": "python",
   "name": "python3"
  },
  "language_info": {
   "codemirror_mode": {
    "name": "ipython",
    "version": 3
   },
   "file_extension": ".py",
   "mimetype": "text/x-python",
   "name": "python",
   "nbconvert_exporter": "python",
   "pygments_lexer": "ipython3",
   "version": "3.13.7"
  }
 },
 "nbformat": 4,
 "nbformat_minor": 5
}
